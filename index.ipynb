{
  "cells": [
    {
      "cell_type": "raw",
      "metadata": {},
      "source": [
        "---\n",
        "title: \"ETC5523 Blog Assessment\"\n",
        "listing:\n",
        "  contents: posts\n",
        "  sort: \"date desc\"\n",
        "  type: default\n",
        "  categories: true\n",
        "  sort-ui: false\n",
        "  filter-ui: false\n",
        "page-layout: full\n",
        "date: \"2024-10-03\"\n",
        "author: \"Aditya Santosh Rao\"\n",
        "title-block-banner: true\n",
        "---"
      ],
      "id": "185ecd01"
    },
    {
      "cell_type": "markdown",
      "metadata": {},
      "source": [
        "```{css}\n",
        "#| echo: false\n",
        "\n",
        "body, html {\n",
        "  height: 100%;\n",
        "  margin: 0;\n",
        "}\n",
        "```"
      ],
      "id": "b7a8a2d6"
    }
  ],
  "metadata": {
    "kernelspec": {
      "display_name": "Python 3",
      "language": "python",
      "name": "python3"
    }
  },
  "nbformat": 4,
  "nbformat_minor": 5
}